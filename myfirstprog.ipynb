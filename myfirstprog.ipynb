{
  "nbformat": 4,
  "nbformat_minor": 0,
  "metadata": {
    "colab": {
      "name": "myfirstprog.ipynb",
      "provenance": [],
      "collapsed_sections": [],
      "authorship_tag": "ABX9TyPQKnH+3kvFY1z/b2C4RJwB",
      "include_colab_link": true
    },
    "kernelspec": {
      "name": "python3",
      "display_name": "Python 3"
    }
  },
  "cells": [
    {
      "cell_type": "markdown",
      "metadata": {
        "id": "view-in-github",
        "colab_type": "text"
      },
      "source": [
        "<a href=\"https://colab.research.google.com/github/seema1977/seemanew/blob/seema1/myfirstprog.ipynb\" target=\"_parent\"><img src=\"https://colab.research.google.com/assets/colab-badge.svg\" alt=\"Open In Colab\"/></a>"
      ]
    },
    {
      "cell_type": "code",
      "metadata": {
        "id": "DV_XLv7O6DTG",
        "colab_type": "code",
        "colab": {
          "base_uri": "https://localhost:8080/",
          "height": 68
        },
        "outputId": "3d4e6dad-9549-474c-f4c5-ab56fe825f53"
      },
      "source": [
        "# sum of two nos\n",
        "num1 = int(input(\"Enter first no\"))\n",
        "num2 = int(input(\"Enter second no\"))\n",
        "\n",
        "# Adding the two numbers\n",
        "sum = num1 + num2\n",
        "\n",
        "# Display the sum\n",
        "print('The sum of {0} and {1} is {2}'.format(num1, num2, sum))\n",
        "\n"
      ],
      "execution_count": 1,
      "outputs": [
        {
          "output_type": "stream",
          "text": [
            "Enter first no3\n",
            "Enter second no9\n",
            "The sum of 3 and 9 is 12\n"
          ],
          "name": "stdout"
        }
      ]
    }
  ]
}